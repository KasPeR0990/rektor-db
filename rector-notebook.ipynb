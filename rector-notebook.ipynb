{
  "cells": [
    {
      "cell_type": "markdown",
      "metadata": {},
      "source": [
        "Numpy tests plus a little vector db "
      ]
    },
    {
      "cell_type": "code",
      "execution_count": 17,
      "metadata": {},
      "outputs": [
        {
          "name": "stdout",
          "output_type": "stream",
          "text": [
            "Top results: [(np.int64(0), np.float64(0.9816581904580174))]\n"
          ]
        }
      ],
      "source": [
        "import numpy as np \n",
        "\n",
        "# From rector.py\n",
        "db = np.array([\n",
        "    [0.1, 0.3, 0.7, 0.9],\n",
        "    [0.2, 0.1, 0.4, 0.8],\n",
        "    [0.9, 0.8, 0.3, 0.2],\n",
        "    [0.4, 0.4, 0.6, 0.7],\n",
        "    [0.7, 0.9, 0.1, 0.2]\n",
        "])\n",
        "\n",
        "query = np.array([0.3, 0.2, 0.8, 0.9])\n",
        "\n",
        "def cosine_similarity(a,b):\n",
        "  return np.dot(a, b) / (np.linalg.norm(a) * np.linalg.norm(b))\n",
        "\n",
        "# \n",
        "def search(query, db, top_k=1):\n",
        "    # cosine somiliraity compution \n",
        "    similarities = [cosine_similarity(query, v) for v in db]\n",
        "    # argsort gives lowest to highest, [::-1] revers that to highest first\n",
        "    sorted_idx = np.argsort(similarities)[::-1]  \n",
        "    # top_k=2 get theb est two rows and their cosine scores\n",
        "    return [(i, similarities[i]) for i in sorted_idx[:top_k]]\n",
        "\n",
        "results = search(query, db)\n",
        "print(\"Top results:\", results)\n",
        "\n",
        "\n",
        "# cosine similarity in simple terms \n",
        "# multiply matching positions and add them upp (dot product)\n",
        "# find the length of each vector (square each value, add, square root)\n",
        "# divide the dot product by (length of a x length of b)\n",
        "# bigger results closer to 1 mans more similar directorion \n",
        "\n",
        "\n",
        "\n",
        "\n",
        "# it measuers how similar two vectors are by the angle between them. same direction = 1, 0 is unrelated opposite is -1\n",
        "# dot product, line up the numbers, multiply in pairs, then add.\n",
        "#  [a, b, c] · [d, e, f] = a·d + b·e + c·f.\n",
        "# length of each vector, square each number, then add then square root. \n",
        "# Length([a, b, c]) = sqrt(a² + b² + c²).\n",
        "# cosine similarity is the dot products / (length of first x length of second )"
      ]
    },
    {
      "cell_type": "code",
      "execution_count": 18,
      "metadata": {},
      "outputs": [
        {
          "name": "stdout",
          "output_type": "stream",
          "text": [
            "[[1]\n",
            " [2]\n",
            " [3]]\n",
            "[[ 1  2  3  4]\n",
            " [ 4  5  6  7]\n",
            " [ 7  8  9 10]]\n",
            "3\n"
          ]
        }
      ],
      "source": [
        "\n",
        "import numpy as np \n",
        "\n",
        "vector_column = np.array([[1], [2], [3]])\n",
        "print(vector_column)\n",
        "\n",
        "# Note: the original np.matrix string is malformed; fixing it to a proper 3x4 matrix\n",
        "mat1 = np.matrix(\"1, 2, 3, 4; 4, 5, 6, 7; 7, 8, 9, 10\")\n",
        "print(mat1)\n",
        "\n",
        "print(mat1.shape[0])\n",
        "\n"
      ]
    },
    {
      "cell_type": "code",
      "execution_count": null,
      "metadata": {},
      "outputs": [],
      "source": []
    }
  ],
  "metadata": {
    "kernelspec": {
      "display_name": ".venv",
      "language": "python",
      "name": "python3"
    },
    "language_info": {
      "codemirror_mode": {
        "name": "ipython",
        "version": 3
      },
      "file_extension": ".py",
      "mimetype": "text/x-python",
      "name": "python",
      "nbconvert_exporter": "python",
      "pygments_lexer": "ipython3",
      "version": "3.13.7"
    }
  },
  "nbformat": 4,
  "nbformat_minor": 2
}
